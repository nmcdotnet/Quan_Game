{
 "cells": [
  {
   "cell_type": "code",
   "execution_count": 3,
   "metadata": {},
   "outputs": [],
   "source": [
    "import tkinter as tk\n",
    "from tkinter import messagebox\n",
    "import subprocess\n",
    "\n",
    "def run_notebook(notebook_path):\n",
    "    try:\n",
    "        subprocess.run(['jupyter', 'nbconvert', '--to', 'notebook', '--execute', notebook_path, '--inplace'])\n",
    "        messagebox.showinfo(\"Thông báo\", f\"Đã chạy xong file {notebook_path}\")\n",
    "    except Exception as e:\n",
    "        messagebox.showerror(\"Lỗi\", f\"Không thể chạy file {notebook_path}. Lỗi: {e}\")\n",
    "\n",
    "# Tạo cửa sổ chính\n",
    "root = tk.Tk()\n",
    "root.title(\"Chọn chế độ chơi\")\n",
    "root.geometry(\"400x200\")\n",
    "\n",
    "# Tiêu đề\n",
    "label = tk.Label(root, text=\"Chọn chế độ chơi:\", font=(\"Arial\", 16))\n",
    "label.pack(pady=10)\n",
    "\n",
    "# Nút Người vs Người\n",
    "btn_nguoivsnguoiv1 = tk.Button(\n",
    "    root, text=\"Người vs Người\", font=(\"Arial\", 14), bg=\"lightblue\",\n",
    "    command=lambda: run_notebook(\"NguoivsNguoi1.ipynb\")\n",
    ")\n",
    "btn_nguoivsnguoiv1.pack(pady=10)\n",
    "\n",
    "# Nút Chơi với Máy\n",
    "btn_choivemay = tk.Button(\n",
    "    root, text=\"Chơi với Máy\", font=(\"Arial\", 14), bg=\"lightgreen\",\n",
    "    command=lambda: run_notebook(\"AI1.ipynb\")\n",
    ")\n",
    "btn_choivemay.pack(pady=10)\n",
    "\n",
    "# Vòng lặp chính\n",
    "root.mainloop()\n"
   ]
  }
 ],
 "metadata": {
  "kernelspec": {
   "display_name": "venv",
   "language": "python",
   "name": "python3"
  },
  "language_info": {
   "codemirror_mode": {
    "name": "ipython",
    "version": 3
   },
   "file_extension": ".py",
   "mimetype": "text/x-python",
   "name": "python",
   "nbconvert_exporter": "python",
   "pygments_lexer": "ipython3",
   "version": "3.12.1"
  }
 },
 "nbformat": 4,
 "nbformat_minor": 2
}
